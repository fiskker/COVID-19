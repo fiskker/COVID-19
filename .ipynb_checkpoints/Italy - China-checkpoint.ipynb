{
 "cells": [
  {
   "cell_type": "code",
   "execution_count": 138,
   "metadata": {},
   "outputs": [],
   "source": [
    "import numpy as np\n",
    "import matplotlib as plt\n",
    "import pandas as pd\n",
    "\n",
    "conf = pd.read_csv(\"csse_covid_19_data/csse_covid_19_time_series/time_series_19-covid-Confirmed.csv\")"
   ]
  },
  {
   "cell_type": "code",
   "execution_count": 139,
   "metadata": {},
   "outputs": [
    {
     "data": {
      "text/html": [
       "<div>\n",
       "<style scoped>\n",
       "    .dataframe tbody tr th:only-of-type {\n",
       "        vertical-align: middle;\n",
       "    }\n",
       "\n",
       "    .dataframe tbody tr th {\n",
       "        vertical-align: top;\n",
       "    }\n",
       "\n",
       "    .dataframe thead th {\n",
       "        text-align: right;\n",
       "    }\n",
       "</style>\n",
       "<table border=\"1\" class=\"dataframe\">\n",
       "  <thead>\n",
       "    <tr style=\"text-align: right;\">\n",
       "      <th></th>\n",
       "      <th>1/22/20</th>\n",
       "      <th>1/23/20</th>\n",
       "      <th>1/24/20</th>\n",
       "      <th>1/25/20</th>\n",
       "      <th>1/26/20</th>\n",
       "      <th>1/27/20</th>\n",
       "      <th>1/28/20</th>\n",
       "      <th>1/29/20</th>\n",
       "      <th>1/30/20</th>\n",
       "      <th>1/31/20</th>\n",
       "      <th>...</th>\n",
       "      <th>3/3/20</th>\n",
       "      <th>3/4/20</th>\n",
       "      <th>3/5/20</th>\n",
       "      <th>3/6/20</th>\n",
       "      <th>3/7/20</th>\n",
       "      <th>3/8/20</th>\n",
       "      <th>3/9/20</th>\n",
       "      <th>3/10/20</th>\n",
       "      <th>3/11/20</th>\n",
       "      <th>3/12/20</th>\n",
       "    </tr>\n",
       "  </thead>\n",
       "  <tbody>\n",
       "    <tr>\n",
       "      <th>16</th>\n",
       "      <td>0</td>\n",
       "      <td>0</td>\n",
       "      <td>0</td>\n",
       "      <td>0</td>\n",
       "      <td>0</td>\n",
       "      <td>0</td>\n",
       "      <td>0</td>\n",
       "      <td>0</td>\n",
       "      <td>0</td>\n",
       "      <td>2</td>\n",
       "      <td>...</td>\n",
       "      <td>2502</td>\n",
       "      <td>3089</td>\n",
       "      <td>3858</td>\n",
       "      <td>4636</td>\n",
       "      <td>5883</td>\n",
       "      <td>7375</td>\n",
       "      <td>9172</td>\n",
       "      <td>10149</td>\n",
       "      <td>12462</td>\n",
       "      <td>15113</td>\n",
       "    </tr>\n",
       "    <tr>\n",
       "      <th>156</th>\n",
       "      <td>444</td>\n",
       "      <td>444</td>\n",
       "      <td>549</td>\n",
       "      <td>761</td>\n",
       "      <td>1058</td>\n",
       "      <td>1423</td>\n",
       "      <td>3554</td>\n",
       "      <td>3554</td>\n",
       "      <td>4903</td>\n",
       "      <td>5806</td>\n",
       "      <td>...</td>\n",
       "      <td>67217</td>\n",
       "      <td>67332</td>\n",
       "      <td>67466</td>\n",
       "      <td>67592</td>\n",
       "      <td>67666</td>\n",
       "      <td>67707</td>\n",
       "      <td>67743</td>\n",
       "      <td>67760</td>\n",
       "      <td>67773</td>\n",
       "      <td>67781</td>\n",
       "    </tr>\n",
       "  </tbody>\n",
       "</table>\n",
       "<p>2 rows × 51 columns</p>\n",
       "</div>"
      ],
      "text/plain": [
       "     1/22/20  1/23/20  1/24/20  1/25/20  1/26/20  1/27/20  1/28/20  1/29/20  \\\n",
       "16         0        0        0        0        0        0        0        0   \n",
       "156      444      444      549      761     1058     1423     3554     3554   \n",
       "\n",
       "     1/30/20  1/31/20  ...  3/3/20  3/4/20  3/5/20  3/6/20  3/7/20  3/8/20  \\\n",
       "16         0        2  ...    2502    3089    3858    4636    5883    7375   \n",
       "156     4903     5806  ...   67217   67332   67466   67592   67666   67707   \n",
       "\n",
       "     3/9/20  3/10/20  3/11/20  3/12/20  \n",
       "16     9172    10149    12462    15113  \n",
       "156   67743    67760    67773    67781  \n",
       "\n",
       "[2 rows x 51 columns]"
      ]
     },
     "execution_count": 139,
     "metadata": {},
     "output_type": "execute_result"
    }
   ],
   "source": [
    "cases = conf.loc[(conf['Country/Region'] == 'China') & (conf['Province/State'] == 'Hubei') | (conf['Country/Region'] == 'Italy')]\n",
    "cases_d = cases.drop(['Province/State', 'Country/Region', 'Lat', 'Long'], axis=1)\n",
    "cases_d_t = cases_d.transpose()\n",
    "cases_d"
   ]
  },
  {
   "cell_type": "code",
   "execution_count": 140,
   "metadata": {},
   "outputs": [
    {
     "data": {
      "text/plain": [
       "<matplotlib.axes._subplots.AxesSubplot at 0x7fbdbbb90c50>"
      ]
     },
     "execution_count": 140,
     "metadata": {},
     "output_type": "execute_result"
    },
    {
     "data": {
      "image/png": "[encoded data removed]",
      "text/plain": [
       "<Figure size 432x288 with 1 Axes>"
      ]
     },
     "metadata": {
      "needs_background": "light"
     },
     "output_type": "display_data"
    }
   ],
   "source": [
    "cases_d_t = cases_d.transpose()\n",
    "cases_d_t.rename(columns={16: 'Italy', 156: 'Hubei'}, inplace=True)\n",
    "cases_d_t.plot()"
   ]
  },
  {
   "cell_type": "code",
   "execution_count": 141,
   "metadata": {},
   "outputs": [],
   "source": [
    "# Shift data to outbreak start\n",
    "cases_d_t['Italy'] = cases_d_t['Italy'].shift(-32)"
   ]
  },
  {
   "cell_type": "code",
   "execution_count": 142,
   "metadata": {},
   "outputs": [
    {
     "data": {
      "text/plain": [
       "<matplotlib.axes._subplots.AxesSubplot at 0x7fbdbba69978>"
      ]
     },
     "execution_count": 142,
     "metadata": {},
     "output_type": "execute_result"
    },
    {
     "data": {
      "image/png": "[encoded data removed]",
      "text/plain": [
       "<Figure size 432x288 with 1 Axes>"
      ]
     },
     "metadata": {
      "needs_background": "light"
     },
     "output_type": "display_data"
    }
   ],
   "source": [
    "offset = cases_d_t['1/22/20': '2/9/20']\n",
    "offset.plot()"
   ]
  },
  {
   "cell_type": "code",
   "execution_count": null,
   "metadata": {},
   "outputs": [],
   "source": []
  },
  {
   "cell_type": "code",
   "execution_count": null,
   "metadata": {},
   "outputs": [],
   "source": []
  },
  {
   "cell_type": "code",
   "execution_count": null,
   "metadata": {},
   "outputs": [],
   "source": []
  }
 ],
 "metadata": {
  "kernelspec": {
   "display_name": "Python 3",
   "language": "python",
   "name": "python3"
  },
  "language_info": {
   "codemirror_mode": {
    "name": "ipython",
    "version": 3
   },
   "file_extension": ".py",
   "mimetype": "text/x-python",
   "name": "python",
   "nbconvert_exporter": "python",
   "pygments_lexer": "ipython3",
   "version": "3.6.9"
  }
 },
 "nbformat": 4,
 "nbformat_minor": 4
}
